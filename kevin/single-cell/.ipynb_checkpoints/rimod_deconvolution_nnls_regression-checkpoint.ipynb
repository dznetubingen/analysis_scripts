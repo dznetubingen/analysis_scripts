{
 "cells": [
  {
   "cell_type": "code",
   "execution_count": 66,
   "metadata": {},
   "outputs": [],
   "source": [
    "import pandas as pd\n",
    "import numpy as np\n",
    "from scipy.optimize import nnls"
   ]
  },
  {
   "cell_type": "markdown",
   "metadata": {},
   "source": [
    "# Load Data"
   ]
  },
  {
   "cell_type": "code",
   "execution_count": 67,
   "metadata": {},
   "outputs": [],
   "source": [
    "data_dir = \"/home/kevin/rimod/RNAseq/analysis/deconvolution/\"\n",
    "\n",
    "# load expression matrix\n",
    "mat = pd.read_csv(data_dir + \"frontal_lengthScaledTPM_counts.txt\", sep=\"\\t\", index_col=0)\n",
    "mat.index = [x.split(\".\")[0] for x in list(mat.index)]\n",
    "\n",
    "# load predicted fractions\n",
    "fracs = pd.read_csv(data_dir + \"cdn_predictions.txt\", sep=\"\\t\", index_col=0)\n",
    "fracs.columns = [x.replace(\"X\", \"\") for x in list(fracs.columns)]\n",
    "\n",
    "\n",
    "# Create matrices\n",
    "genes = list(mat.index)\n",
    "celltypes = fracs.columns\n",
    "M = np.array(mat)\n",
    "F = np.array(fracs)"
   ]
  },
  {
   "cell_type": "markdown",
   "metadata": {},
   "source": [
    "# Perform regression"
   ]
  },
  {
   "cell_type": "code",
   "execution_count": 68,
   "metadata": {},
   "outputs": [],
   "source": [
    "exp_list = []\n",
    "residual_list = []\n",
    "for i in range(M.shape[0]):\n",
    "    res = nnls(F, M[i,:])\n",
    "    exp_list.append(res[0])\n",
    "    residual_list.append(res[1])"
   ]
  },
  {
   "cell_type": "code",
   "execution_count": 69,
   "metadata": {},
   "outputs": [],
   "source": [
    "df = pd.DataFrame(exp_list, index=genes, columns = celltypes)"
   ]
  },
  {
   "cell_type": "code",
   "execution_count": 70,
   "metadata": {},
   "outputs": [
    {
     "data": {
      "text/html": [
       "<div>\n",
       "<style scoped>\n",
       "    .dataframe tbody tr th:only-of-type {\n",
       "        vertical-align: middle;\n",
       "    }\n",
       "\n",
       "    .dataframe tbody tr th {\n",
       "        vertical-align: top;\n",
       "    }\n",
       "\n",
       "    .dataframe thead th {\n",
       "        text-align: right;\n",
       "    }\n",
       "</style>\n",
       "<table border=\"1\" class=\"dataframe\">\n",
       "  <thead>\n",
       "    <tr style=\"text-align: right;\">\n",
       "      <th></th>\n",
       "      <th>Unknown</th>\n",
       "      <th>InNeurons</th>\n",
       "      <th>Oligodendrocytes</th>\n",
       "      <th>Endothelial</th>\n",
       "      <th>Microglia</th>\n",
       "      <th>Astrocytes</th>\n",
       "      <th>OPC</th>\n",
       "      <th>ExNeurons</th>\n",
       "    </tr>\n",
       "  </thead>\n",
       "  <tbody>\n",
       "    <tr>\n",
       "      <td>ENSG00000000003</td>\n",
       "      <td>0.0</td>\n",
       "      <td>472.651240</td>\n",
       "      <td>0.000000</td>\n",
       "      <td>3304.743244</td>\n",
       "      <td>3710.395028</td>\n",
       "      <td>1559.032474</td>\n",
       "      <td>0.000000</td>\n",
       "      <td>0.0</td>\n",
       "    </tr>\n",
       "    <tr>\n",
       "      <td>ENSG00000000005</td>\n",
       "      <td>0.0</td>\n",
       "      <td>12.012031</td>\n",
       "      <td>0.000000</td>\n",
       "      <td>0.000000</td>\n",
       "      <td>2.252836</td>\n",
       "      <td>0.000000</td>\n",
       "      <td>0.000000</td>\n",
       "      <td>0.0</td>\n",
       "    </tr>\n",
       "    <tr>\n",
       "      <td>ENSG00000000419</td>\n",
       "      <td>0.0</td>\n",
       "      <td>2332.017875</td>\n",
       "      <td>10.770765</td>\n",
       "      <td>0.000000</td>\n",
       "      <td>569.734770</td>\n",
       "      <td>0.000000</td>\n",
       "      <td>0.000000</td>\n",
       "      <td>0.0</td>\n",
       "    </tr>\n",
       "    <tr>\n",
       "      <td>ENSG00000000457</td>\n",
       "      <td>0.0</td>\n",
       "      <td>2521.087949</td>\n",
       "      <td>262.042312</td>\n",
       "      <td>0.000000</td>\n",
       "      <td>664.578884</td>\n",
       "      <td>0.000000</td>\n",
       "      <td>0.000000</td>\n",
       "      <td>0.0</td>\n",
       "    </tr>\n",
       "    <tr>\n",
       "      <td>ENSG00000000460</td>\n",
       "      <td>0.0</td>\n",
       "      <td>680.691150</td>\n",
       "      <td>389.686747</td>\n",
       "      <td>0.000000</td>\n",
       "      <td>2129.020129</td>\n",
       "      <td>0.000000</td>\n",
       "      <td>3614.856773</td>\n",
       "      <td>0.0</td>\n",
       "    </tr>\n",
       "  </tbody>\n",
       "</table>\n",
       "</div>"
      ],
      "text/plain": [
       "                 Unknown    InNeurons  Oligodendrocytes  Endothelial  \\\n",
       "ENSG00000000003      0.0   472.651240          0.000000  3304.743244   \n",
       "ENSG00000000005      0.0    12.012031          0.000000     0.000000   \n",
       "ENSG00000000419      0.0  2332.017875         10.770765     0.000000   \n",
       "ENSG00000000457      0.0  2521.087949        262.042312     0.000000   \n",
       "ENSG00000000460      0.0   680.691150        389.686747     0.000000   \n",
       "\n",
       "                   Microglia   Astrocytes          OPC  ExNeurons  \n",
       "ENSG00000000003  3710.395028  1559.032474     0.000000        0.0  \n",
       "ENSG00000000005     2.252836     0.000000     0.000000        0.0  \n",
       "ENSG00000000419   569.734770     0.000000     0.000000        0.0  \n",
       "ENSG00000000457   664.578884     0.000000     0.000000        0.0  \n",
       "ENSG00000000460  2129.020129     0.000000  3614.856773        0.0  "
      ]
     },
     "execution_count": 70,
     "metadata": {},
     "output_type": "execute_result"
    }
   ],
   "source": [
    "df.head()"
   ]
  },
  {
   "cell_type": "code",
   "execution_count": 71,
   "metadata": {},
   "outputs": [
    {
     "data": {
      "text/plain": [
       "Unknown                 0.000000\n",
       "InNeurons            5660.355317\n",
       "Oligodendrocytes        0.000000\n",
       "Endothelial         62187.167075\n",
       "Microglia           17116.916031\n",
       "Astrocytes              0.000000\n",
       "OPC                     0.000000\n",
       "ExNeurons               0.000000\n",
       "Name: ENSG00000102755, dtype: float64"
      ]
     },
     "execution_count": 71,
     "metadata": {},
     "output_type": "execute_result"
    }
   ],
   "source": [
    "snap = \"ENSG00000102755\"\n",
    "snap in genes\n",
    "df.loc[snap,]"
   ]
  },
  {
   "cell_type": "markdown",
   "metadata": {},
   "source": [
    "# Group-wise regression"
   ]
  },
  {
   "cell_type": "code",
   "execution_count": 96,
   "metadata": {},
   "outputs": [],
   "source": [
    "# load expression matrix\n",
    "mat = pd.read_csv(data_dir + \"frontal_lengthScaledTPM_counts.txt\", sep=\"\\t\", index_col=0)\n",
    "mat.index = [x.split(\".\")[0] for x in list(mat.index)]\n",
    "\n",
    "# load predicted fractions\n",
    "fracs = pd.read_csv(data_dir + \"cdn_predictions.txt\", sep=\"\\t\", index_col=0)\n",
    "fracs.index = [x.replace(\"X\", \"\") for x in list(fracs.index)]\n",
    "\n",
    "# load metadata\n",
    "md = pd.read_csv(data_dir + \"rnaseq_frontal_md.txt\", sep=\"\\t\")\n",
    "\n",
    "# Divide by group\n",
    "# MAPT\n",
    "mapt = list(md[md['mutated_gene'] == 'MAPT']['ids'])\n",
    "fracs_mapt = fracs.loc[mapt]\n",
    "mat_mapt = mat[mapt]\n",
    "\n",
    "# GRN\n",
    "grn = list(md[md['mutated_gene'] == 'GRN']['ids'])\n",
    "fracs_grn = fracs.loc[grn]\n",
    "mat_grn = mat[grn]\n",
    "\n",
    "# control\n",
    "control = list(md[md['mutated_gene'] == 'control']['ids'])\n",
    "fracs_control = fracs.loc[control]\n",
    "mat_control = mat[control]\n",
    "\n",
    "# C9orf72\n",
    "c9 = list(md[md['mutated_gene'] == 'C9orf72']['ids'])\n",
    "fracs_c9 = fracs.loc[c9]\n",
    "mat_c9 = mat[c9]"
   ]
  },
  {
   "cell_type": "markdown",
   "metadata": {},
   "source": [
    "## FTD-MAPT expression"
   ]
  },
  {
   "cell_type": "code",
   "execution_count": 97,
   "metadata": {},
   "outputs": [],
   "source": [
    "M = np.array(mat_mapt)\n",
    "F = np.array(fracs_mapt)\n",
    "\n",
    "exp_list = []\n",
    "residual_list = []\n",
    "for i in range(M.shape[0]):\n",
    "    res = nnls(F, M[i,:])\n",
    "    exp_list.append(res[0])\n",
    "    residual_list.append(res[1])\n",
    "    \n",
    "mapt_df = pd.DataFrame(exp_list, index=genes, columns = celltypes)\n",
    "mapt_residuals = residual_list\n",
    "mapt_df['residuals'] = mapt_residuals"
   ]
  },
  {
   "cell_type": "markdown",
   "metadata": {},
   "source": [
    "## FTD-GRN expression"
   ]
  },
  {
   "cell_type": "code",
   "execution_count": 98,
   "metadata": {},
   "outputs": [],
   "source": [
    "M = np.array(mat_grn)\n",
    "F = np.array(fracs_grn)\n",
    "\n",
    "exp_list = []\n",
    "residual_list = []\n",
    "for i in range(M.shape[0]):\n",
    "    res = nnls(F, M[i,:])\n",
    "    exp_list.append(res[0])\n",
    "    residual_list.append(res[1])\n",
    "    \n",
    "grn_df = pd.DataFrame(exp_list, index=genes, columns = celltypes)\n",
    "grn_residuals = residual_list\n",
    "grn_df['residuals'] = grn_residuals"
   ]
  },
  {
   "cell_type": "markdown",
   "metadata": {},
   "source": [
    "## FTD-C9orf72 expression"
   ]
  },
  {
   "cell_type": "code",
   "execution_count": 99,
   "metadata": {},
   "outputs": [],
   "source": [
    "M = np.array(mat_c9)\n",
    "F = np.array(fracs_c9)\n",
    "\n",
    "exp_list = []\n",
    "residual_list = []\n",
    "for i in range(M.shape[0]):\n",
    "    res = nnls(F, M[i,:])\n",
    "    exp_list.append(res[0])\n",
    "    residual_list.append(res[1])\n",
    "    \n",
    "c9_df = pd.DataFrame(exp_list, index=genes, columns = celltypes)\n",
    "c9_residuals = residual_list\n",
    "c9_df['residuals'] = c9_residuals"
   ]
  },
  {
   "cell_type": "markdown",
   "metadata": {},
   "source": [
    "## Control expression"
   ]
  },
  {
   "cell_type": "code",
   "execution_count": 100,
   "metadata": {},
   "outputs": [],
   "source": [
    "M = np.array(mat_control)\n",
    "F = np.array(fracs_control)\n",
    "\n",
    "exp_list = []\n",
    "residual_list = []\n",
    "for i in range(M.shape[0]):\n",
    "    res = nnls(F, M[i,:])\n",
    "    exp_list.append(res[0])\n",
    "    residual_list.append(res[1])\n",
    "    \n",
    "control_df = pd.DataFrame(exp_list, index=genes, columns = celltypes)\n",
    "control_residuals = residual_list\n",
    "control_df['residuals'] = control_residuals"
   ]
  },
  {
   "cell_type": "markdown",
   "metadata": {},
   "source": [
    "## Save the data"
   ]
  },
  {
   "cell_type": "code",
   "execution_count": 101,
   "metadata": {},
   "outputs": [],
   "source": [
    "mapt_df.to_csv(data_dir + \"mapt_celltype_expression.txt\", sep=\"\\t\")\n",
    "grn_df.to_csv(data_dir + \"grn_celltype_expression.txt\", sep=\"\\t\")\n",
    "c9_df.to_csv(data_dir + \"c9_celltype_expression.txt\", sep=\"\\t\")\n",
    "control_df.to_csv(data_dir + \"control_celltype_expression.txt\", sep=\"\\t\")"
   ]
  },
  {
   "cell_type": "code",
   "execution_count": 102,
   "metadata": {},
   "outputs": [
    {
     "data": {
      "text/html": [
       "<div>\n",
       "<style scoped>\n",
       "    .dataframe tbody tr th:only-of-type {\n",
       "        vertical-align: middle;\n",
       "    }\n",
       "\n",
       "    .dataframe tbody tr th {\n",
       "        vertical-align: top;\n",
       "    }\n",
       "\n",
       "    .dataframe thead th {\n",
       "        text-align: right;\n",
       "    }\n",
       "</style>\n",
       "<table border=\"1\" class=\"dataframe\">\n",
       "  <thead>\n",
       "    <tr style=\"text-align: right;\">\n",
       "      <th></th>\n",
       "      <th>control</th>\n",
       "      <th>MAPT</th>\n",
       "      <th>GRN</th>\n",
       "      <th>C9orf72</th>\n",
       "    </tr>\n",
       "  </thead>\n",
       "  <tbody>\n",
       "    <tr>\n",
       "      <td>Unknown</td>\n",
       "      <td>0.000000</td>\n",
       "      <td>0.000000</td>\n",
       "      <td>0.000000</td>\n",
       "      <td>0.000000</td>\n",
       "    </tr>\n",
       "    <tr>\n",
       "      <td>InNeurons</td>\n",
       "      <td>5948.914562</td>\n",
       "      <td>0.000000</td>\n",
       "      <td>0.000000</td>\n",
       "      <td>0.000000</td>\n",
       "    </tr>\n",
       "    <tr>\n",
       "      <td>Oligodendrocytes</td>\n",
       "      <td>0.000000</td>\n",
       "      <td>0.000000</td>\n",
       "      <td>0.000000</td>\n",
       "      <td>0.000000</td>\n",
       "    </tr>\n",
       "    <tr>\n",
       "      <td>Endothelial</td>\n",
       "      <td>52707.540308</td>\n",
       "      <td>0.000000</td>\n",
       "      <td>0.000000</td>\n",
       "      <td>0.000000</td>\n",
       "    </tr>\n",
       "    <tr>\n",
       "      <td>Microglia</td>\n",
       "      <td>0.000000</td>\n",
       "      <td>0.000000</td>\n",
       "      <td>0.000000</td>\n",
       "      <td>250510.214354</td>\n",
       "    </tr>\n",
       "    <tr>\n",
       "      <td>Astrocytes</td>\n",
       "      <td>0.000000</td>\n",
       "      <td>20987.927194</td>\n",
       "      <td>25212.855426</td>\n",
       "      <td>0.000000</td>\n",
       "    </tr>\n",
       "    <tr>\n",
       "      <td>OPC</td>\n",
       "      <td>0.000000</td>\n",
       "      <td>0.000000</td>\n",
       "      <td>0.000000</td>\n",
       "      <td>0.000000</td>\n",
       "    </tr>\n",
       "    <tr>\n",
       "      <td>ExNeurons</td>\n",
       "      <td>0.000000</td>\n",
       "      <td>0.000000</td>\n",
       "      <td>1533.124301</td>\n",
       "      <td>0.000000</td>\n",
       "    </tr>\n",
       "    <tr>\n",
       "      <td>residuals</td>\n",
       "      <td>3644.253050</td>\n",
       "      <td>6799.377089</td>\n",
       "      <td>5227.724988</td>\n",
       "      <td>17028.729954</td>\n",
       "    </tr>\n",
       "  </tbody>\n",
       "</table>\n",
       "</div>"
      ],
      "text/plain": [
       "                       control          MAPT           GRN        C9orf72\n",
       "Unknown               0.000000      0.000000      0.000000       0.000000\n",
       "InNeurons          5948.914562      0.000000      0.000000       0.000000\n",
       "Oligodendrocytes      0.000000      0.000000      0.000000       0.000000\n",
       "Endothelial       52707.540308      0.000000      0.000000       0.000000\n",
       "Microglia             0.000000      0.000000      0.000000  250510.214354\n",
       "Astrocytes            0.000000  20987.927194  25212.855426       0.000000\n",
       "OPC                   0.000000      0.000000      0.000000       0.000000\n",
       "ExNeurons             0.000000      0.000000   1533.124301       0.000000\n",
       "residuals          3644.253050   6799.377089   5227.724988   17028.729954"
      ]
     },
     "execution_count": 102,
     "metadata": {},
     "output_type": "execute_result"
    }
   ],
   "source": [
    "# Check certain gene\n",
    "gene = \"ENSG00000102755\"\n",
    "dfs = [control_df, mapt_df, grn_df, c9_df]\n",
    "names = ['control', 'MAPT', 'GRN', 'C9orf72']\n",
    "exp_list = []\n",
    "for i in range(4):\n",
    "    df = dfs[i]\n",
    "    name = names[i]\n",
    "    tmp = df.loc[gene,]\n",
    "    exp_list.append(list(tmp))\n",
    "\n",
    "df = pd.DataFrame(exp_list).T\n",
    "df.columns = names\n",
    "indices = list(celltypes) + ['residuals']\n",
    "df.index = indices\n",
    "df"
   ]
  },
  {
   "cell_type": "markdown",
   "metadata": {},
   "source": [
    "# One-celltype regression\n",
    "Only use one celltype at a time and group all the others together. This should give the regression better power and should allow to get better results."
   ]
  },
  {
   "cell_type": "code",
   "execution_count": 89,
   "metadata": {},
   "outputs": [],
   "source": [
    "def group_celltypes(fracs, coi):\n",
    "    \"\"\"\n",
    "    Group together cell types of interest and the rest\n",
    "    \"\"\"\n",
    "    new_fracs = fracs.copy()\n",
    "    # cell types\n",
    "    all_cts = list(new_fracs.columns)\n",
    "    rest_cts = [x for x in all_cts if x not in coi]\n",
    "        \n",
    "    # Group cell types of interest (if several)\n",
    "    new_fracs['coi'] = new_fracs[coi[0]]\n",
    "    if len(coi) > 1:\n",
    "        for i in range(1, len(coi)):\n",
    "            new_fracs['coi'] += new_fracs[coi[i]]\n",
    "    \n",
    "    # Group remaining celltypes\n",
    "    new_fracs['rest'] = new_fracs[rest_cts[0]]\n",
    "    for i in range(1, len(rest_cts)):\n",
    "        new_fracs['rest'] += new_fracs[rest_cts[i]]\n",
    "    \n",
    "    # Drop all cell types\n",
    "    new_fracs.drop(all_cts, axis=1, inplace=True)\n",
    "    new_fracs.columns = [coi[0], 'rest']\n",
    "    \n",
    "    return new_fracs\n",
    "\n",
    "\n",
    "def regress_celltype(matrix, fractions):\n",
    "    \"\"\"\n",
    "    Regress the expression of a certain cell type\n",
    "    \"\"\"\n",
    "    M = np.array(matrix)\n",
    "    F = np.array(fractions)\n",
    "\n",
    "    exp_list = []\n",
    "    residual_list = []\n",
    "    for i in range(M.shape[0]):\n",
    "        res = nnls(F, M[i,:])\n",
    "        exp_list.append(res[0])\n",
    "        residual_list.append(res[1])\n",
    "\n",
    "    df = pd.DataFrame(exp_list, index=list(matrix.index), columns = list(fractions.columns))\n",
    "    df['residuals'] = residual_list\n",
    "    return df"
   ]
  },
  {
   "cell_type": "markdown",
   "metadata": {},
   "source": [
    "## FTD-MAPT"
   ]
  },
  {
   "cell_type": "code",
   "execution_count": 111,
   "metadata": {},
   "outputs": [
    {
     "data": {
      "text/plain": [
       "Microglia    3334.134152\n",
       "rest         1001.199395\n",
       "residuals    1429.101678\n",
       "Name: ENSG00000030582, dtype: float64"
      ]
     },
     "execution_count": 111,
     "metadata": {},
     "output_type": "execute_result"
    }
   ],
   "source": [
    "endo_mapt = group_celltypes(fracs_control, ['Microglia'])\n",
    "endo_df = regress_celltype(mat_control, endo_mapt)\n",
    "gene = \"ENSG00000030582\"\n",
    "endo_df.loc[gene,]"
   ]
  },
  {
   "cell_type": "code",
   "execution_count": null,
   "metadata": {},
   "outputs": [],
   "source": []
  }
 ],
 "metadata": {
  "kernelspec": {
   "display_name": "Python [conda env:scaden] *",
   "language": "python",
   "name": "conda-env-scaden-py"
  },
  "language_info": {
   "codemirror_mode": {
    "name": "ipython",
    "version": 3
   },
   "file_extension": ".py",
   "mimetype": "text/x-python",
   "name": "python",
   "nbconvert_exporter": "python",
   "pygments_lexer": "ipython3",
   "version": "3.6.9"
  }
 },
 "nbformat": 4,
 "nbformat_minor": 2
}
