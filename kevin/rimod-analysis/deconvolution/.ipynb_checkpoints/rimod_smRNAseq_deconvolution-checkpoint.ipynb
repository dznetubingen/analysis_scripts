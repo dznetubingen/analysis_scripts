{
 "cells": [
  {
   "cell_type": "code",
   "execution_count": 1,
   "metadata": {},
   "outputs": [],
   "source": [
    "import pandas as pd\n",
    "import numpy as np\n",
    "from scipy.optimize import nnls"
   ]
  },
  {
   "cell_type": "code",
   "execution_count": 28,
   "metadata": {},
   "outputs": [],
   "source": [
    "def regress_celltype(matrix, fractions):\n",
    "    \"\"\"\n",
    "    Regress the expression of a certain cell type\n",
    "    \"\"\"\n",
    "    M = np.array(matrix)\n",
    "    F = np.array(fractions)\n",
    "\n",
    "    exp_list = []\n",
    "    residual_list = []\n",
    "    for i in range(M.shape[0]):\n",
    "        res = nnls(F, M[i,:])\n",
    "        exp_list.append(res[0])\n",
    "        residual_list.append(res[1])\n",
    "\n",
    "    df = pd.DataFrame(exp_list, index=list(matrix.index), columns = list(fractions.columns))\n",
    "    df['residuals'] = residual_list\n",
    "    return df"
   ]
  },
  {
   "cell_type": "code",
   "execution_count": 25,
   "metadata": {},
   "outputs": [
    {
     "name": "stdout",
     "output_type": "stream",
     "text": [
      "41 common samples\n"
     ]
    }
   ],
   "source": [
    "data_dir = \"/home/kevin/rimod/smallRNA/frontal/analysis/deconvolution_0919/\"\n",
    "\n",
    "# load expression matrix\n",
    "mat = pd.read_csv(data_dir + \"deseq_rLog_values_frontal_smRNA.txt\", sep=\"\\t\", index_col=0)\n",
    "mat.index = [x.split(\".\")[0] for x in list(mat.index)]\n",
    "cols = [x.replace(\"sample_\", \"\") for x in list(mat.columns)]\n",
    "mat.columns = [x[0:5] for x in cols]\n",
    "\n",
    "# load predicted fractions\n",
    "fracs = pd.read_csv(\"/home/kevin/rimod/RNAseq/analysis/deconvolution/cdn_predictions.txt\", sep=\"\\t\", index_col=0)\n",
    "fracs.index = [x.replace(\"X\", \"\") for x in list(fracs.index)]\n",
    "fracs.index = [x[0:5] for x in list(fracs.index)]\n",
    "\n",
    "\n",
    "# Get common samples\n",
    "cmn = set(mat.columns).intersection(set(fracs.index))\n",
    "print(f\"{len(cmn)} common samples\")\n",
    "\n",
    "# Subset and order according to common samples\n",
    "mat = mat[cmn]\n",
    "fracs = fracs.loc[cmn]\n"
   ]
  },
  {
   "cell_type": "code",
   "execution_count": 38,
   "metadata": {},
   "outputs": [
    {
     "data": {
      "text/plain": [
       "Unknown              4.974948\n",
       "InNeurons           15.081718\n",
       "Oligodendrocytes    15.126995\n",
       "Endothelial         13.688309\n",
       "Microglia           23.761017\n",
       "Astrocytes          16.939504\n",
       "OPC                  0.000000\n",
       "ExNeurons           16.222345\n",
       "residuals            3.818802\n",
       "Name: hsa-miR-191-5p, dtype: float64"
      ]
     },
     "execution_count": 38,
     "metadata": {},
     "output_type": "execute_result"
    }
   ],
   "source": [
    "df = regress_celltype(mat, fracs)\n",
    "df.loc['hsa-miR-191-5p']"
   ]
  },
  {
   "cell_type": "code",
   "execution_count": null,
   "metadata": {},
   "outputs": [],
   "source": []
  }
 ],
 "metadata": {
  "kernelspec": {
   "display_name": "Python [conda env:scaden] *",
   "language": "python",
   "name": "conda-env-scaden-py"
  },
  "language_info": {
   "codemirror_mode": {
    "name": "ipython",
    "version": 3
   },
   "file_extension": ".py",
   "mimetype": "text/x-python",
   "name": "python",
   "nbconvert_exporter": "python",
   "pygments_lexer": "ipython3",
   "version": "3.6.9"
  }
 },
 "nbformat": 4,
 "nbformat_minor": 2
}
